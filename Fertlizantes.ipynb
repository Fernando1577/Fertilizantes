{
  "nbformat": 4,
  "nbformat_minor": 0,
  "metadata": {
    "colab": {
      "name": "Fertlizantes.ipynb",
      "provenance": []
    },
    "kernelspec": {
      "name": "python3",
      "display_name": "Python 3"
    },
    "language_info": {
      "name": "python"
    }
  },
  "cells": [
    {
      "cell_type": "markdown",
      "source": [
        "Fertilizantes"
      ],
      "metadata": {
        "id": "PpNQQi89JR8K"
      }
    },
    {
      "cell_type": "code",
      "source": [
        "import pandas as pd \n",
        "import numpy as np"
      ],
      "metadata": {
        "id": "vG206oNTJUQR"
      },
      "execution_count": null,
      "outputs": []
    },
    {
      "cell_type": "markdown",
      "source": [
        "Importing the Data"
      ],
      "metadata": {
        "id": "D0Z3kV2iJrDW"
      }
    },
    {
      "cell_type": "code",
      "source": [
        "df = pd.read_excel(\"Fert.xlsx\" )\n",
        "df_comp =df"
      ],
      "metadata": {
        "id": "aepRqvM3L7E4"
      },
      "execution_count": null,
      "outputs": []
    },
    {
      "cell_type": "markdown",
      "source": [
        "Examining the Data"
      ],
      "metadata": {
        "id": "nrpMRUrBMvOV"
      }
    },
    {
      "cell_type": "code",
      "source": [
        "df_comp.head()"
      ],
      "metadata": {
        "colab": {
          "base_uri": "https://localhost:8080/",
          "height": 250
        },
        "id": "8E5Xe1nsMyxs",
        "outputId": "bc596c08-5a0d-45fd-dcc7-d14e545f5c81"
      },
      "execution_count": null,
      "outputs": [
        {
          "output_type": "execute_result",
          "data": {
            "text/plain": [
              "   Fe.contab.     Cantidad   Importe en MD  Pcio Unit  \\\n",
              "0  09.12.2021      -200.00       -182200.0      911.0   \n",
              "1  29.06.2021      -180.00        -92700.0      515.0   \n",
              "2  16.09.2021      -120.00        -75360.0      628.0   \n",
              "3  15.12.2021       -52.36        -55501.6     1060.0   \n",
              "4  01.10.2021       -80.00        -55600.0      695.0   \n",
              "\n",
              "      Denominación del proveedor  Unnamed: 5         Detalle Material  \n",
              "0      LOS GROBO AGROPECUARIA SA         NaN  UREA GRANULADA (Granel)  \n",
              "1      LOS GROBO AGROPECUARIA SA         NaN  UREA GRANULADA (Granel)  \n",
              "2                CARGILL S.A.C.I         NaN  UREA GRANULADA (Granel)  \n",
              "3  COFCO INTERNATIONAL ARGENTINA         NaN  UREA GRANULADA (Granel)  \n",
              "4            ARECO SEMILLAS S.A.         NaN  UREA GRANULADA (Granel)  "
            ],
            "text/html": [
              "\n",
              "  <div id=\"df-af6c26c1-e609-4d86-a7aa-db872d8127d2\">\n",
              "    <div class=\"colab-df-container\">\n",
              "      <div>\n",
              "<style scoped>\n",
              "    .dataframe tbody tr th:only-of-type {\n",
              "        vertical-align: middle;\n",
              "    }\n",
              "\n",
              "    .dataframe tbody tr th {\n",
              "        vertical-align: top;\n",
              "    }\n",
              "\n",
              "    .dataframe thead th {\n",
              "        text-align: right;\n",
              "    }\n",
              "</style>\n",
              "<table border=\"1\" class=\"dataframe\">\n",
              "  <thead>\n",
              "    <tr style=\"text-align: right;\">\n",
              "      <th></th>\n",
              "      <th>Fe.contab.</th>\n",
              "      <th>Cantidad</th>\n",
              "      <th>Importe en MD</th>\n",
              "      <th>Pcio Unit</th>\n",
              "      <th>Denominación del proveedor</th>\n",
              "      <th>Unnamed: 5</th>\n",
              "      <th>Detalle Material</th>\n",
              "    </tr>\n",
              "  </thead>\n",
              "  <tbody>\n",
              "    <tr>\n",
              "      <th>0</th>\n",
              "      <td>09.12.2021</td>\n",
              "      <td>-200.00</td>\n",
              "      <td>-182200.0</td>\n",
              "      <td>911.0</td>\n",
              "      <td>LOS GROBO AGROPECUARIA SA</td>\n",
              "      <td>NaN</td>\n",
              "      <td>UREA GRANULADA (Granel)</td>\n",
              "    </tr>\n",
              "    <tr>\n",
              "      <th>1</th>\n",
              "      <td>29.06.2021</td>\n",
              "      <td>-180.00</td>\n",
              "      <td>-92700.0</td>\n",
              "      <td>515.0</td>\n",
              "      <td>LOS GROBO AGROPECUARIA SA</td>\n",
              "      <td>NaN</td>\n",
              "      <td>UREA GRANULADA (Granel)</td>\n",
              "    </tr>\n",
              "    <tr>\n",
              "      <th>2</th>\n",
              "      <td>16.09.2021</td>\n",
              "      <td>-120.00</td>\n",
              "      <td>-75360.0</td>\n",
              "      <td>628.0</td>\n",
              "      <td>CARGILL S.A.C.I</td>\n",
              "      <td>NaN</td>\n",
              "      <td>UREA GRANULADA (Granel)</td>\n",
              "    </tr>\n",
              "    <tr>\n",
              "      <th>3</th>\n",
              "      <td>15.12.2021</td>\n",
              "      <td>-52.36</td>\n",
              "      <td>-55501.6</td>\n",
              "      <td>1060.0</td>\n",
              "      <td>COFCO INTERNATIONAL ARGENTINA</td>\n",
              "      <td>NaN</td>\n",
              "      <td>UREA GRANULADA (Granel)</td>\n",
              "    </tr>\n",
              "    <tr>\n",
              "      <th>4</th>\n",
              "      <td>01.10.2021</td>\n",
              "      <td>-80.00</td>\n",
              "      <td>-55600.0</td>\n",
              "      <td>695.0</td>\n",
              "      <td>ARECO SEMILLAS S.A.</td>\n",
              "      <td>NaN</td>\n",
              "      <td>UREA GRANULADA (Granel)</td>\n",
              "    </tr>\n",
              "  </tbody>\n",
              "</table>\n",
              "</div>\n",
              "      <button class=\"colab-df-convert\" onclick=\"convertToInteractive('df-af6c26c1-e609-4d86-a7aa-db872d8127d2')\"\n",
              "              title=\"Convert this dataframe to an interactive table.\"\n",
              "              style=\"display:none;\">\n",
              "        \n",
              "  <svg xmlns=\"http://www.w3.org/2000/svg\" height=\"24px\"viewBox=\"0 0 24 24\"\n",
              "       width=\"24px\">\n",
              "    <path d=\"M0 0h24v24H0V0z\" fill=\"none\"/>\n",
              "    <path d=\"M18.56 5.44l.94 2.06.94-2.06 2.06-.94-2.06-.94-.94-2.06-.94 2.06-2.06.94zm-11 1L8.5 8.5l.94-2.06 2.06-.94-2.06-.94L8.5 2.5l-.94 2.06-2.06.94zm10 10l.94 2.06.94-2.06 2.06-.94-2.06-.94-.94-2.06-.94 2.06-2.06.94z\"/><path d=\"M17.41 7.96l-1.37-1.37c-.4-.4-.92-.59-1.43-.59-.52 0-1.04.2-1.43.59L10.3 9.45l-7.72 7.72c-.78.78-.78 2.05 0 2.83L4 21.41c.39.39.9.59 1.41.59.51 0 1.02-.2 1.41-.59l7.78-7.78 2.81-2.81c.8-.78.8-2.07 0-2.86zM5.41 20L4 18.59l7.72-7.72 1.47 1.35L5.41 20z\"/>\n",
              "  </svg>\n",
              "      </button>\n",
              "      \n",
              "  <style>\n",
              "    .colab-df-container {\n",
              "      display:flex;\n",
              "      flex-wrap:wrap;\n",
              "      gap: 12px;\n",
              "    }\n",
              "\n",
              "    .colab-df-convert {\n",
              "      background-color: #E8F0FE;\n",
              "      border: none;\n",
              "      border-radius: 50%;\n",
              "      cursor: pointer;\n",
              "      display: none;\n",
              "      fill: #1967D2;\n",
              "      height: 32px;\n",
              "      padding: 0 0 0 0;\n",
              "      width: 32px;\n",
              "    }\n",
              "\n",
              "    .colab-df-convert:hover {\n",
              "      background-color: #E2EBFA;\n",
              "      box-shadow: 0px 1px 2px rgba(60, 64, 67, 0.3), 0px 1px 3px 1px rgba(60, 64, 67, 0.15);\n",
              "      fill: #174EA6;\n",
              "    }\n",
              "\n",
              "    [theme=dark] .colab-df-convert {\n",
              "      background-color: #3B4455;\n",
              "      fill: #D2E3FC;\n",
              "    }\n",
              "\n",
              "    [theme=dark] .colab-df-convert:hover {\n",
              "      background-color: #434B5C;\n",
              "      box-shadow: 0px 1px 3px 1px rgba(0, 0, 0, 0.15);\n",
              "      filter: drop-shadow(0px 1px 2px rgba(0, 0, 0, 0.3));\n",
              "      fill: #FFFFFF;\n",
              "    }\n",
              "  </style>\n",
              "\n",
              "      <script>\n",
              "        const buttonEl =\n",
              "          document.querySelector('#df-af6c26c1-e609-4d86-a7aa-db872d8127d2 button.colab-df-convert');\n",
              "        buttonEl.style.display =\n",
              "          google.colab.kernel.accessAllowed ? 'block' : 'none';\n",
              "\n",
              "        async function convertToInteractive(key) {\n",
              "          const element = document.querySelector('#df-af6c26c1-e609-4d86-a7aa-db872d8127d2');\n",
              "          const dataTable =\n",
              "            await google.colab.kernel.invokeFunction('convertToInteractive',\n",
              "                                                     [key], {});\n",
              "          if (!dataTable) return;\n",
              "\n",
              "          const docLinkHtml = 'Like what you see? Visit the ' +\n",
              "            '<a target=\"_blank\" href=https://colab.research.google.com/notebooks/data_table.ipynb>data table notebook</a>'\n",
              "            + ' to learn more about interactive tables.';\n",
              "          element.innerHTML = '';\n",
              "          dataTable['output_type'] = 'display_data';\n",
              "          await google.colab.output.renderOutput(dataTable, element);\n",
              "          const docLink = document.createElement('div');\n",
              "          docLink.innerHTML = docLinkHtml;\n",
              "          element.appendChild(docLink);\n",
              "        }\n",
              "      </script>\n",
              "    </div>\n",
              "  </div>\n",
              "  "
            ]
          },
          "metadata": {},
          "execution_count": 6
        }
      ]
    }
  ]
}